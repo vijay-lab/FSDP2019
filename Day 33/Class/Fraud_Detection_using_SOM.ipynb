{
  "nbformat": 4,
  "nbformat_minor": 0,
  "metadata": {
    "colab": {
      "name": "Fraud Detection using SOM.ipynb",
      "version": "0.3.2",
      "provenance": []
    },
    "kernelspec": {
      "display_name": "Python 3",
      "language": "python",
      "name": "python3"
    }
  },
  "cells": [
    {
      "cell_type": "markdown",
      "metadata": {
        "id": "YsUCiseOPlyK",
        "colab_type": "text"
      },
      "source": [
        "# Fraud Detection Using Self Organizing Map\n"
      ]
    },
    {
      "cell_type": "code",
      "metadata": {
        "id": "AhydBSjGwP6h",
        "colab_type": "code",
        "colab": {}
      },
      "source": [
        "from google.colab import drive\n",
        "drive.mount('/content/drive')"
      ],
      "execution_count": 0,
      "outputs": []
    },
    {
      "cell_type": "code",
      "metadata": {
        "id": "BJK3-2DQvQaP",
        "colab_type": "code",
        "colab": {}
      },
      "source": [
        ""
      ],
      "execution_count": 0,
      "outputs": []
    },
    {
      "cell_type": "code",
      "metadata": {
        "id": "b4ZcF41HPlyN",
        "colab_type": "code",
        "colab": {}
      },
      "source": [
        "# Importing the libraries\n",
        "import numpy as np\n",
        "import matplotlib.pyplot as plt\n",
        "import pandas as pd"
      ],
      "execution_count": 0,
      "outputs": []
    },
    {
      "cell_type": "code",
      "metadata": {
        "id": "wpapVnBdPlyR",
        "colab_type": "code",
        "colab": {}
      },
      "source": [
        "# Importing the dataset\n",
        "dataset = pd.read_csv('/content/drive/My Drive/App/Fraud-Detection-SOM/Credit_Card_Applications.csv')\n",
        "features = dataset.iloc[:, :-1].values\n",
        "labels = dataset.iloc[:, -1].values"
      ],
      "execution_count": 0,
      "outputs": []
    },
    {
      "cell_type": "code",
      "metadata": {
        "id": "orjdcRPDPlyU",
        "colab_type": "code",
        "colab": {}
      },
      "source": [
        "dataset.head()"
      ],
      "execution_count": 0,
      "outputs": []
    },
    {
      "cell_type": "code",
      "metadata": {
        "id": "qlu0CydzPlya",
        "colab_type": "code",
        "colab": {}
      },
      "source": [
        "# Feature Scaling\n",
        "# To prevent any variable from overpowering the others, we need to standardize all variables.\n",
        "from sklearn.preprocessing import MinMaxScaler\n",
        "sc = MinMaxScaler(feature_range = (0, 1))\n",
        "features = sc.fit_transform(features)"
      ],
      "execution_count": 0,
      "outputs": []
    },
    {
      "cell_type": "code",
      "metadata": {
        "id": "EfI0Upz5Gigq",
        "colab_type": "code",
        "colab": {}
      },
      "source": [
        "features.shape"
      ],
      "execution_count": 0,
      "outputs": []
    },
    {
      "cell_type": "code",
      "metadata": {
        "id": "ddGGDHsZxUjf",
        "colab_type": "code",
        "colab": {}
      },
      "source": [
        "import os\n",
        "os.chdir(\"/content/drive/My Drive/App/Fraud-Detection-SOM\")"
      ],
      "execution_count": 0,
      "outputs": []
    },
    {
      "cell_type": "code",
      "metadata": {
        "id": "n6-SnFqkwuHQ",
        "colab_type": "code",
        "colab": {}
      },
      "source": [
        "from minisom import MiniSom #you need to chage the directory as above to access this file"
      ],
      "execution_count": 0,
      "outputs": []
    },
    {
      "cell_type": "code",
      "metadata": {
        "id": "elXoxWMzPlyi",
        "colab_type": "code",
        "colab": {}
      },
      "source": [
        "# Training the SOM\n",
        "from minisom import MiniSom\n",
        "som = MiniSom(x = 10, y = 10, input_len = 15, sigma = 1.0, learning_rate = 0.5)\n",
        "som.random_weights_init(features)\n",
        "som.train_random(data = features, num_iteration = 100)"
      ],
      "execution_count": 0,
      "outputs": []
    },
    {
      "cell_type": "markdown",
      "metadata": {
        "id": "ljuMcafzh-sH",
        "colab_type": "text"
      },
      "source": [
        "It is also common to use the **U-Matrix**. \n",
        "\n",
        "Unified Distance Matrix\n",
        "\n",
        "The U-matrix (unified distance matrix) is a representation of a self-organizing map (SOM) where the Euclidean distance between the codebook vectors of neighboring neurons is depicted in a grayscale image. This image is used to visualize the data in a high-dimensional space using a 2D image.\n",
        "\n",
        "The U-Matrix value of a particular node is the average distance between the node's weight vector and that of its closest neighbors. In a square grid, for instance, we might consider the closest 4 or 8 nodes (the Von Neumann and Moore neighborhoods, respectively), or six nodes in a hexagonal grid."
      ]
    },
    {
      "cell_type": "code",
      "metadata": {
        "id": "SZLU2ZgqOM5s",
        "colab_type": "code",
        "colab": {}
      },
      "source": [
        "from pylab import bone, pcolor, colorbar, plot, show\n",
        "bone()\n",
        "pcolor(som.distance_map().T)\n",
        "colorbar()\n"
      ],
      "execution_count": 0,
      "outputs": []
    },
    {
      "cell_type": "code",
      "metadata": {
        "id": "iROMgYAGPlyk",
        "colab_type": "code",
        "outputId": "a6d84d32-e238-4c84-9b03-f0287c62b637",
        "colab": {
          "base_uri": "https://localhost:8080/",
          "height": 269
        }
      },
      "source": [
        "# Visualizing the results\n",
        "# Outlier points are the customers who are fradulent as there is a anomaly in their behavior.\n",
        "from pylab import bone, pcolor, colorbar, plot, show\n",
        "bone()\n",
        "pcolor(som.distance_map().T)\n",
        "colorbar()\n",
        "markers = ['o', 's']\n",
        "colors = ['r', 'g']\n",
        "for i, x in enumerate(features):\n",
        "    w = som.winner(x)\n",
        "    plot(w[0] + 0.5,\n",
        "         w[1] + 0.5,\n",
        "         markers[labels[i]],\n",
        "         markeredgecolor = colors[labels[i]],\n",
        "         markerfacecolor = 'None',\n",
        "         markersize = 10,\n",
        "         markeredgewidth = 2)\n",
        "# From the result below we can observe that the dark nodes are the wining nodes and the darker shaded nodes surrounding them are the ones which are closely representing the wining node features. while the white blocks represent \n",
        "# that they are outliers and can be classified as fradulent people.\n",
        "# we can distinguish people who got approval and who did not from the bank. our aim is to detect customers with bank approval and are fraudulent in nature. \n",
        "# Red circles depict the customers who did not get approval and green represents customers who got approval from the bank\n",
        "# Circles represent customers with No approval and Square represents customers with Aproval."
      ],
      "execution_count": 25,
      "outputs": [
        {
          "output_type": "display_data",
          "data": {
            "image/png": "[encoded data removed]",
            "text/plain": [
              "<Figure size 432x288 with 2 Axes>"
            ]
          },
          "metadata": {
            "tags": []
          }
        }
      ]
    },
    {
      "cell_type": "code",
      "metadata": {
        "id": "VSy3eLZWyJ3r",
        "colab_type": "code",
        "colab": {}
      },
      "source": [
        "# Finding the frauds\n",
        "# to get the explicit customer list who have comitted to this fraud\n",
        "mappings = som.win_map(features) #mappings is a dictionary"
      ],
      "execution_count": 0,
      "outputs": []
    },
    {
      "cell_type": "code",
      "metadata": {
        "id": "Leb1tl11IlQt",
        "colab_type": "code",
        "colab": {}
      },
      "source": [
        "mappings"
      ],
      "execution_count": 0,
      "outputs": []
    },
    {
      "cell_type": "code",
      "metadata": {
        "id": "rTHdTmbMZZ-a",
        "colab_type": "code",
        "colab": {}
      },
      "source": [
        "print (mappings[(6,1)])"
      ],
      "execution_count": 0,
      "outputs": []
    },
    {
      "cell_type": "code",
      "metadata": {
        "id": "6ZNgyoiIaF59",
        "colab_type": "code",
        "colab": {}
      },
      "source": [
        "#frauds = np.concatenate((mappings[(3,2)], mappings[(5,1)]), axis = 0)\n",
        "frauds = mappings[(6,1)]"
      ],
      "execution_count": 0,
      "outputs": []
    },
    {
      "cell_type": "code",
      "metadata": {
        "id": "NFU6TpiOPlyp",
        "colab_type": "code",
        "colab": {}
      },
      "source": [
        "\n",
        "frauds = sc.inverse_transform(frauds) #as values are scalled, to get actual values of customers details, we need to do reverse of scalling"
      ],
      "execution_count": 0,
      "outputs": []
    },
    {
      "cell_type": "code",
      "metadata": {
        "id": "0AoqGRhPPlyt",
        "colab_type": "code",
        "colab": {}
      },
      "source": [
        "np.set_printoptions(suppress=True)\n",
        "frauds\n",
        "# from the results below we can observe the customers(customerID) who have received the approval from bank and are fradulent.\n"
      ],
      "execution_count": 0,
      "outputs": []
    },
    {
      "cell_type": "code",
      "metadata": {
        "id": "oInpofRDoxJp",
        "colab_type": "code",
        "colab": {}
      },
      "source": [
        "len(frauds)"
      ],
      "execution_count": 0,
      "outputs": []
    },
    {
      "cell_type": "code",
      "metadata": {
        "id": "FLrfYLQvoyfw",
        "colab_type": "code",
        "colab": {}
      },
      "source": [
        "import keras\n",
        "print (keras.__version__)"
      ],
      "execution_count": 0,
      "outputs": []
    },
    {
      "cell_type": "markdown",
      "metadata": {
        "id": "dMUu9vI26SRh",
        "colab_type": "text"
      },
      "source": [
        "# Other implementations of SOMs:\n",
        "\n",
        "1. Data compression\n",
        "2. Speech recognition\n",
        "3. Separating sound sources\n",
        "4. Fraud detection\n",
        "\n",
        "\n"
      ]
    }
  ]
}