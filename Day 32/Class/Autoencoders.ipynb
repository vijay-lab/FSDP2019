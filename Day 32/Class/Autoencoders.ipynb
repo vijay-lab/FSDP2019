{
  "nbformat": 4,
  "nbformat_minor": 0,
  "metadata": {
    "colab": {
      "name": "Autoencoders.ipynb",
      "version": "0.3.2",
      "provenance": [],
      "collapsed_sections": []
    },
    "kernelspec": {
      "name": "python2",
      "display_name": "Python 2"
    },
    "accelerator": "GPU"
  },
  "cells": [
    {
      "cell_type": "markdown",
      "metadata": {
        "id": "ijGQa7T9dWmM",
        "colab_type": "text"
      },
      "source": [
        "# What are autoencoders?\n",
        "\n",
        "\n",
        "![alt text](https://blog.keras.io/img/ae/autoencoder_schema.jpg)\n",
        "\n",
        "\"Autoencoding\" is a data compression algorithm where the compression and decompression functions are 1) data-specific, 2) lossy, and 3) learned automatically from examples rather than engineered by a human. Additionally, in almost all contexts where the term \"autoencoder\" is used, the compression and decompression functions are implemented with neural networks."
      ]
    },
    {
      "cell_type": "markdown",
      "metadata": {
        "id": "DK2idAV4eewZ",
        "colab_type": "text"
      },
      "source": [
        "# What are autoencoders good for?\n",
        "\n",
        "Today two interesting practical applications of autoencoders are **data denoising** (which we feature later in this post), and **dimensionality reduction for data visualization**. With appropriate dimensionality and sparsity constraints, autoencoders can learn data projections that are more interesting than PCA or other basic techniques.\n"
      ]
    },
    {
      "cell_type": "markdown",
      "metadata": {
        "id": "YtWCGLXNfdRu",
        "colab_type": "text"
      },
      "source": [
        "# Let's build the simplest possible autoencoder\n",
        "\n",
        "We'll start simple, with a single fully-connected neural layer as encoder and as decoder:"
      ]
    },
    {
      "cell_type": "code",
      "metadata": {
        "id": "H9AZ98DvdI2V",
        "colab_type": "code",
        "outputId": "bde74113-048c-4d1c-8818-f934d4041db6",
        "colab": {
          "base_uri": "https://localhost:8080/",
          "height": 173
        }
      },
      "source": [
        "from keras.layers import Input, Dense\n",
        "from keras.models import Model\n",
        "\n",
        "# this is the size of our encoded representations\n",
        "encoding_dim = 32  # 32 floats -> compression of factor 24.5, assuming the input is 784 floats\n",
        "\n",
        "# this is our input placeholder\n",
        "input_img = Input(shape=(784,))\n",
        "# \"encoded\" is the encoded representation of the input\n",
        "encoded = Dense(encoding_dim, activation='relu')(input_img)\n",
        "# \"decoded\" is the lossy reconstruction of the input\n",
        "decoded = Dense(784, activation='sigmoid')(encoded)\n",
        "\n",
        "# this model maps an input to its reconstruction\n",
        "autoencoder = Model(input_img, decoded)"
      ],
      "execution_count": 1,
      "outputs": [
        {
          "output_type": "stream",
          "text": [
            "Using TensorFlow backend.\n",
            "WARNING: Logging before flag parsing goes to stderr.\n",
            "W0618 01:57:29.093987 139742053783424 deprecation_wrapper.py:119] From /usr/local/lib/python2.7/dist-packages/keras/backend/tensorflow_backend.py:74: The name tf.get_default_graph is deprecated. Please use tf.compat.v1.get_default_graph instead.\n",
            "\n",
            "W0618 01:57:29.122325 139742053783424 deprecation_wrapper.py:119] From /usr/local/lib/python2.7/dist-packages/keras/backend/tensorflow_backend.py:517: The name tf.placeholder is deprecated. Please use tf.compat.v1.placeholder instead.\n",
            "\n",
            "W0618 01:57:29.128806 139742053783424 deprecation_wrapper.py:119] From /usr/local/lib/python2.7/dist-packages/keras/backend/tensorflow_backend.py:4138: The name tf.random_uniform is deprecated. Please use tf.random.uniform instead.\n",
            "\n"
          ],
          "name": "stderr"
        }
      ]
    },
    {
      "cell_type": "code",
      "metadata": {
        "id": "xm_3nnprj6Vg",
        "colab_type": "code",
        "outputId": "19465427-22e7-42af-cc9f-2e9691f14178",
        "colab": {
          "base_uri": "https://localhost:8080/",
          "height": 238
        }
      },
      "source": [
        "autoencoder.summary()"
      ],
      "execution_count": 2,
      "outputs": [
        {
          "output_type": "stream",
          "text": [
            "_________________________________________________________________\n",
            "Layer (type)                 Output Shape              Param #   \n",
            "=================================================================\n",
            "input_1 (InputLayer)         (None, 784)               0         \n",
            "_________________________________________________________________\n",
            "dense_1 (Dense)              (None, 32)                25120     \n",
            "_________________________________________________________________\n",
            "dense_2 (Dense)              (None, 784)               25872     \n",
            "=================================================================\n",
            "Total params: 50,992\n",
            "Trainable params: 50,992\n",
            "Non-trainable params: 0\n",
            "_________________________________________________________________\n"
          ],
          "name": "stdout"
        }
      ]
    },
    {
      "cell_type": "markdown",
      "metadata": {
        "id": "fDjjZKoHLMLj",
        "colab_type": "text"
      },
      "source": [
        "Let's also create a separate encoder model:"
      ]
    },
    {
      "cell_type": "code",
      "metadata": {
        "id": "povP6atBLN4_",
        "colab_type": "code",
        "colab": {}
      },
      "source": [
        "# this model maps an input to its encoded representation\n",
        "#this is optional for now\n",
        "encoder = Model(input_img, encoded)"
      ],
      "execution_count": 0,
      "outputs": []
    },
    {
      "cell_type": "code",
      "metadata": {
        "id": "H28MnHqFkqrc",
        "colab_type": "code",
        "outputId": "bb56d085-5f45-4be8-f80c-21dd5c675eb6",
        "colab": {
          "base_uri": "https://localhost:8080/",
          "height": 207
        }
      },
      "source": [
        "encoder.summary()"
      ],
      "execution_count": 0,
      "outputs": [
        {
          "output_type": "stream",
          "text": [
            "_________________________________________________________________\n",
            "Layer (type)                 Output Shape              Param #   \n",
            "=================================================================\n",
            "input_1 (InputLayer)         (None, 784)               0         \n",
            "_________________________________________________________________\n",
            "dense_1 (Dense)              (None, 32)                25120     \n",
            "=================================================================\n",
            "Total params: 25,120\n",
            "Trainable params: 25,120\n",
            "Non-trainable params: 0\n",
            "_________________________________________________________________\n"
          ],
          "name": "stdout"
        }
      ]
    },
    {
      "cell_type": "markdown",
      "metadata": {
        "id": "Bkq7hzFDLTIv",
        "colab_type": "text"
      },
      "source": [
        "As well as the decoder model:"
      ]
    },
    {
      "cell_type": "code",
      "metadata": {
        "id": "vURBM_H9LUWj",
        "colab_type": "code",
        "colab": {}
      },
      "source": [
        "#this is OPTIONAL for now\n",
        "# create a placeholder for an encoded (32-dimensional) input, mind it: decoder will take 32 dim as input image(compressed form)\n",
        "encoded_input = Input(shape=(encoding_dim,))\n",
        "# retrieve the last layer of the autoencoder model\n",
        "decoder_layer = autoencoder.layers[-1]\n",
        "# create the decoder model\n",
        "decoder = Model(encoded_input, decoder_layer(encoded_input))"
      ],
      "execution_count": 0,
      "outputs": []
    },
    {
      "cell_type": "code",
      "metadata": {
        "id": "6BXq16fBlL-x",
        "colab_type": "code",
        "outputId": "228acae3-ae60-4b96-a81f-194426636c32",
        "colab": {
          "base_uri": "https://localhost:8080/",
          "height": 204
        }
      },
      "source": [
        "decoder.summary()"
      ],
      "execution_count": 0,
      "outputs": [
        {
          "output_type": "stream",
          "text": [
            "_________________________________________________________________\n",
            "Layer (type)                 Output Shape              Param #   \n",
            "=================================================================\n",
            "input_2 (InputLayer)         (None, 32)                0         \n",
            "_________________________________________________________________\n",
            "dense_2 (Dense)              (None, 784)               25872     \n",
            "=================================================================\n",
            "Total params: 25,872\n",
            "Trainable params: 25,872\n",
            "Non-trainable params: 0\n",
            "_________________________________________________________________\n"
          ],
          "name": "stdout"
        }
      ]
    },
    {
      "cell_type": "markdown",
      "metadata": {
        "id": "jbTnXK2FLXNU",
        "colab_type": "text"
      },
      "source": [
        "Now let's train our autoencoder to reconstruct MNIST digits.\n",
        "\n",
        "First, we'll configure our model to use a per-pixel binary crossentropy loss, and the Adadelta optimizer:"
      ]
    },
    {
      "cell_type": "code",
      "metadata": {
        "id": "upgWrJwbLbwz",
        "colab_type": "code",
        "colab": {
          "base_uri": "https://localhost:8080/",
          "height": 156
        },
        "outputId": "4d0bcd87-eb4b-446d-f491-d0834748f0fc"
      },
      "source": [
        "autoencoder.compile(optimizer='adadelta', loss='binary_crossentropy')"
      ],
      "execution_count": 3,
      "outputs": [
        {
          "output_type": "stream",
          "text": [
            "W0618 01:57:59.749517 139742053783424 deprecation_wrapper.py:119] From /usr/local/lib/python2.7/dist-packages/keras/optimizers.py:790: The name tf.train.Optimizer is deprecated. Please use tf.compat.v1.train.Optimizer instead.\n",
            "\n",
            "W0618 01:57:59.775686 139742053783424 deprecation_wrapper.py:119] From /usr/local/lib/python2.7/dist-packages/keras/backend/tensorflow_backend.py:3376: The name tf.log is deprecated. Please use tf.math.log instead.\n",
            "\n",
            "W0618 01:57:59.782567 139742053783424 deprecation.py:323] From /usr/local/lib/python2.7/dist-packages/tensorflow/python/ops/nn_impl.py:180: where (from tensorflow.python.ops.array_ops) is deprecated and will be removed in a future version.\n",
            "Instructions for updating:\n",
            "Use tf.where in 2.0, which has the same broadcast rule as np.where\n"
          ],
          "name": "stderr"
        }
      ]
    },
    {
      "cell_type": "markdown",
      "metadata": {
        "id": "VuVbfOkrLfHp",
        "colab_type": "text"
      },
      "source": [
        "Let's prepare our input data. We're using MNIST digits, and we're discarding the labels (since we're only interested in encoding/decoding the input images)."
      ]
    },
    {
      "cell_type": "code",
      "metadata": {
        "id": "Dy-_uI5cLi5x",
        "colab_type": "code",
        "outputId": "d05976c6-f2d6-4d96-e732-35f88258259e",
        "colab": {
          "base_uri": "https://localhost:8080/",
          "height": 68
        }
      },
      "source": [
        "from keras.datasets import mnist\n",
        "import numpy as np\n",
        "(x_train, _), (x_test, _) = mnist.load_data()"
      ],
      "execution_count": 4,
      "outputs": [
        {
          "output_type": "stream",
          "text": [
            "Downloading data from https://s3.amazonaws.com/img-datasets/mnist.npz\n",
            "11493376/11490434 [==============================] - 2s 0us/step\n",
            "11501568/11490434 [==============================] - 2s 0us/step\n"
          ],
          "name": "stdout"
        }
      ]
    },
    {
      "cell_type": "code",
      "metadata": {
        "id": "4w6op1oYlWgh",
        "colab_type": "code",
        "outputId": "dc188100-3cea-4af1-87ad-861d5068cb74",
        "colab": {
          "base_uri": "https://localhost:8080/",
          "height": 68
        }
      },
      "source": [
        "print type(x_train)\n",
        "print len(x_train)\n",
        "\n",
        "print len(x_test)"
      ],
      "execution_count": 5,
      "outputs": [
        {
          "output_type": "stream",
          "text": [
            "<type 'numpy.ndarray'>\n",
            "60000\n",
            "10000\n"
          ],
          "name": "stdout"
        }
      ]
    },
    {
      "cell_type": "code",
      "metadata": {
        "id": "zFkyfYgslaI7",
        "colab_type": "code",
        "outputId": "0eb54cac-2cb0-4c86-a8e6-29811f648a18",
        "colab": {
          "base_uri": "https://localhost:8080/",
          "height": 986
        }
      },
      "source": [
        "print x_train[0].shape\n",
        "print x_train[0]"
      ],
      "execution_count": 6,
      "outputs": [
        {
          "output_type": "stream",
          "text": [
            "(28, 28)\n",
            "[[  0   0   0   0   0   0   0   0   0   0   0   0   0   0   0   0   0   0\n",
            "    0   0   0   0   0   0   0   0   0   0]\n",
            " [  0   0   0   0   0   0   0   0   0   0   0   0   0   0   0   0   0   0\n",
            "    0   0   0   0   0   0   0   0   0   0]\n",
            " [  0   0   0   0   0   0   0   0   0   0   0   0   0   0   0   0   0   0\n",
            "    0   0   0   0   0   0   0   0   0   0]\n",
            " [  0   0   0   0   0   0   0   0   0   0   0   0   0   0   0   0   0   0\n",
            "    0   0   0   0   0   0   0   0   0   0]\n",
            " [  0   0   0   0   0   0   0   0   0   0   0   0   0   0   0   0   0   0\n",
            "    0   0   0   0   0   0   0   0   0   0]\n",
            " [  0   0   0   0   0   0   0   0   0   0   0   0   3  18  18  18 126 136\n",
            "  175  26 166 255 247 127   0   0   0   0]\n",
            " [  0   0   0   0   0   0   0   0  30  36  94 154 170 253 253 253 253 253\n",
            "  225 172 253 242 195  64   0   0   0   0]\n",
            " [  0   0   0   0   0   0   0  49 238 253 253 253 253 253 253 253 253 251\n",
            "   93  82  82  56  39   0   0   0   0   0]\n",
            " [  0   0   0   0   0   0   0  18 219 253 253 253 253 253 198 182 247 241\n",
            "    0   0   0   0   0   0   0   0   0   0]\n",
            " [  0   0   0   0   0   0   0   0  80 156 107 253 253 205  11   0  43 154\n",
            "    0   0   0   0   0   0   0   0   0   0]\n",
            " [  0   0   0   0   0   0   0   0   0  14   1 154 253  90   0   0   0   0\n",
            "    0   0   0   0   0   0   0   0   0   0]\n",
            " [  0   0   0   0   0   0   0   0   0   0   0 139 253 190   2   0   0   0\n",
            "    0   0   0   0   0   0   0   0   0   0]\n",
            " [  0   0   0   0   0   0   0   0   0   0   0  11 190 253  70   0   0   0\n",
            "    0   0   0   0   0   0   0   0   0   0]\n",
            " [  0   0   0   0   0   0   0   0   0   0   0   0  35 241 225 160 108   1\n",
            "    0   0   0   0   0   0   0   0   0   0]\n",
            " [  0   0   0   0   0   0   0   0   0   0   0   0   0  81 240 253 253 119\n",
            "   25   0   0   0   0   0   0   0   0   0]\n",
            " [  0   0   0   0   0   0   0   0   0   0   0   0   0   0  45 186 253 253\n",
            "  150  27   0   0   0   0   0   0   0   0]\n",
            " [  0   0   0   0   0   0   0   0   0   0   0   0   0   0   0  16  93 252\n",
            "  253 187   0   0   0   0   0   0   0   0]\n",
            " [  0   0   0   0   0   0   0   0   0   0   0   0   0   0   0   0   0 249\n",
            "  253 249  64   0   0   0   0   0   0   0]\n",
            " [  0   0   0   0   0   0   0   0   0   0   0   0   0   0  46 130 183 253\n",
            "  253 207   2   0   0   0   0   0   0   0]\n",
            " [  0   0   0   0   0   0   0   0   0   0   0   0  39 148 229 253 253 253\n",
            "  250 182   0   0   0   0   0   0   0   0]\n",
            " [  0   0   0   0   0   0   0   0   0   0  24 114 221 253 253 253 253 201\n",
            "   78   0   0   0   0   0   0   0   0   0]\n",
            " [  0   0   0   0   0   0   0   0  23  66 213 253 253 253 253 198  81   2\n",
            "    0   0   0   0   0   0   0   0   0   0]\n",
            " [  0   0   0   0   0   0  18 171 219 253 253 253 253 195  80   9   0   0\n",
            "    0   0   0   0   0   0   0   0   0   0]\n",
            " [  0   0   0   0  55 172 226 253 253 253 253 244 133  11   0   0   0   0\n",
            "    0   0   0   0   0   0   0   0   0   0]\n",
            " [  0   0   0   0 136 253 253 253 212 135 132  16   0   0   0   0   0   0\n",
            "    0   0   0   0   0   0   0   0   0   0]\n",
            " [  0   0   0   0   0   0   0   0   0   0   0   0   0   0   0   0   0   0\n",
            "    0   0   0   0   0   0   0   0   0   0]\n",
            " [  0   0   0   0   0   0   0   0   0   0   0   0   0   0   0   0   0   0\n",
            "    0   0   0   0   0   0   0   0   0   0]\n",
            " [  0   0   0   0   0   0   0   0   0   0   0   0   0   0   0   0   0   0\n",
            "    0   0   0   0   0   0   0   0   0   0]]\n"
          ],
          "name": "stdout"
        }
      ]
    },
    {
      "cell_type": "markdown",
      "metadata": {
        "id": "553ZpGgwLx-k",
        "colab_type": "text"
      },
      "source": [
        "We will normalize all values between 0 and 1 and we will flatten the 28x28 images into vectors of size 784."
      ]
    },
    {
      "cell_type": "code",
      "metadata": {
        "id": "3RmP54FimVK8",
        "colab_type": "code",
        "outputId": "ebb27a96-94f1-4588-9d10-4a0e498192e4",
        "colab": {
          "base_uri": "https://localhost:8080/",
          "height": 34
        }
      },
      "source": [
        "print x_train.shape"
      ],
      "execution_count": 0,
      "outputs": [
        {
          "output_type": "stream",
          "text": [
            "(60000, 28, 28)\n"
          ],
          "name": "stdout"
        }
      ]
    },
    {
      "cell_type": "code",
      "metadata": {
        "id": "69F8As0ILy3T",
        "colab_type": "code",
        "outputId": "9e2f702d-7a00-491b-8234-3be2ba8e66ca",
        "colab": {
          "base_uri": "https://localhost:8080/",
          "height": 51
        }
      },
      "source": [
        "x_train = x_train.astype('float32') / 255.\n",
        "x_test = x_test.astype('float32') / 255.\n",
        "x_train = x_train.reshape((len(x_train), np.prod(x_train.shape[1:])))\n",
        "x_test = x_test.reshape((len(x_test), np.prod(x_test.shape[1:])))\n",
        "print x_train.shape\n",
        "print x_test.shape"
      ],
      "execution_count": 7,
      "outputs": [
        {
          "output_type": "stream",
          "text": [
            "(60000, 784)\n",
            "(10000, 784)\n"
          ],
          "name": "stdout"
        }
      ]
    },
    {
      "cell_type": "markdown",
      "metadata": {
        "id": "O4EEeUF8L5MD",
        "colab_type": "text"
      },
      "source": [
        "Now let's train our autoencoder for 50 epochs:"
      ]
    },
    {
      "cell_type": "code",
      "metadata": {
        "id": "NkzLEKiiL4vE",
        "colab_type": "code",
        "outputId": "1646ce58-15bf-4d45-e372-11ffd9c4f3b4",
        "colab": {
          "base_uri": "https://localhost:8080/",
          "height": 3505
        }
      },
      "source": [
        "autoencoder.fit(x_train, x_train,\n",
        "                epochs=100,\n",
        "                batch_size=256,\n",
        "                shuffle=True,\n",
        "                validation_data=(x_test, x_test))"
      ],
      "execution_count": 8,
      "outputs": [
        {
          "output_type": "stream",
          "text": [
            "W0618 01:59:28.810817 139742053783424 deprecation_wrapper.py:119] From /usr/local/lib/python2.7/dist-packages/keras/backend/tensorflow_backend.py:986: The name tf.assign_add is deprecated. Please use tf.compat.v1.assign_add instead.\n",
            "\n"
          ],
          "name": "stderr"
        },
        {
          "output_type": "stream",
          "text": [
            "Train on 60000 samples, validate on 10000 samples\n",
            "Epoch 1/100\n",
            "60000/60000 [==============================] - 5s 76us/step - loss: 0.3564 - val_loss: 0.2708\n",
            "Epoch 2/100\n",
            "60000/60000 [==============================] - 1s 17us/step - loss: 0.2633 - val_loss: 0.2523\n",
            "Epoch 3/100\n",
            "60000/60000 [==============================] - 1s 16us/step - loss: 0.2410 - val_loss: 0.2278\n",
            "Epoch 4/100\n",
            "60000/60000 [==============================] - 1s 16us/step - loss: 0.2194 - val_loss: 0.2094\n",
            "Epoch 5/100\n",
            "60000/60000 [==============================] - 1s 16us/step - loss: 0.2043 - val_loss: 0.1970\n",
            "Epoch 6/100\n",
            "60000/60000 [==============================] - 1s 16us/step - loss: 0.1937 - val_loss: 0.1878\n",
            "Epoch 7/100\n",
            "60000/60000 [==============================] - 1s 16us/step - loss: 0.1855 - val_loss: 0.1803\n",
            "Epoch 8/100\n",
            "60000/60000 [==============================] - 1s 16us/step - loss: 0.1786 - val_loss: 0.1740\n",
            "Epoch 9/100\n",
            "60000/60000 [==============================] - 1s 16us/step - loss: 0.1727 - val_loss: 0.1685\n",
            "Epoch 10/100\n",
            "60000/60000 [==============================] - 1s 16us/step - loss: 0.1676 - val_loss: 0.1637\n",
            "Epoch 11/100\n",
            "60000/60000 [==============================] - 1s 16us/step - loss: 0.1630 - val_loss: 0.1594\n",
            "Epoch 12/100\n",
            "60000/60000 [==============================] - 1s 16us/step - loss: 0.1589 - val_loss: 0.1556\n",
            "Epoch 13/100\n",
            "60000/60000 [==============================] - 1s 16us/step - loss: 0.1552 - val_loss: 0.1519\n",
            "Epoch 14/100\n",
            "60000/60000 [==============================] - 1s 16us/step - loss: 0.1518 - val_loss: 0.1486\n",
            "Epoch 15/100\n",
            "60000/60000 [==============================] - 1s 16us/step - loss: 0.1487 - val_loss: 0.1457\n",
            "Epoch 16/100\n",
            "60000/60000 [==============================] - 1s 16us/step - loss: 0.1458 - val_loss: 0.1429\n",
            "Epoch 17/100\n",
            "60000/60000 [==============================] - 1s 16us/step - loss: 0.1432 - val_loss: 0.1402\n",
            "Epoch 18/100\n",
            "60000/60000 [==============================] - 1s 16us/step - loss: 0.1406 - val_loss: 0.1379\n",
            "Epoch 19/100\n",
            "60000/60000 [==============================] - 1s 16us/step - loss: 0.1383 - val_loss: 0.1355\n",
            "Epoch 20/100\n",
            "60000/60000 [==============================] - 1s 16us/step - loss: 0.1360 - val_loss: 0.1332\n",
            "Epoch 21/100\n",
            "60000/60000 [==============================] - 1s 16us/step - loss: 0.1338 - val_loss: 0.1311\n",
            "Epoch 22/100\n",
            "60000/60000 [==============================] - 1s 16us/step - loss: 0.1317 - val_loss: 0.1291\n",
            "Epoch 23/100\n",
            "60000/60000 [==============================] - 1s 16us/step - loss: 0.1297 - val_loss: 0.1271\n",
            "Epoch 24/100\n",
            "60000/60000 [==============================] - 1s 16us/step - loss: 0.1278 - val_loss: 0.1253\n",
            "Epoch 25/100\n",
            "60000/60000 [==============================] - 1s 17us/step - loss: 0.1259 - val_loss: 0.1235\n",
            "Epoch 26/100\n",
            "60000/60000 [==============================] - 1s 17us/step - loss: 0.1242 - val_loss: 0.1217\n",
            "Epoch 27/100\n",
            "60000/60000 [==============================] - 1s 17us/step - loss: 0.1225 - val_loss: 0.1201\n",
            "Epoch 28/100\n",
            "60000/60000 [==============================] - 1s 17us/step - loss: 0.1210 - val_loss: 0.1186\n",
            "Epoch 29/100\n",
            "60000/60000 [==============================] - 1s 16us/step - loss: 0.1195 - val_loss: 0.1172\n",
            "Epoch 30/100\n",
            "60000/60000 [==============================] - 1s 17us/step - loss: 0.1181 - val_loss: 0.1158\n",
            "Epoch 31/100\n",
            "60000/60000 [==============================] - 1s 17us/step - loss: 0.1168 - val_loss: 0.1146\n",
            "Epoch 32/100\n",
            "60000/60000 [==============================] - 1s 17us/step - loss: 0.1156 - val_loss: 0.1135\n",
            "Epoch 33/100\n",
            "60000/60000 [==============================] - 1s 17us/step - loss: 0.1145 - val_loss: 0.1124\n",
            "Epoch 34/100\n",
            "60000/60000 [==============================] - 1s 17us/step - loss: 0.1135 - val_loss: 0.1114\n",
            "Epoch 35/100\n",
            "60000/60000 [==============================] - 1s 17us/step - loss: 0.1125 - val_loss: 0.1105\n",
            "Epoch 36/100\n",
            "60000/60000 [==============================] - 1s 16us/step - loss: 0.1116 - val_loss: 0.1096\n",
            "Epoch 37/100\n",
            "60000/60000 [==============================] - 1s 16us/step - loss: 0.1108 - val_loss: 0.1088\n",
            "Epoch 38/100\n",
            "60000/60000 [==============================] - 1s 16us/step - loss: 0.1100 - val_loss: 0.1081\n",
            "Epoch 39/100\n",
            "60000/60000 [==============================] - 1s 16us/step - loss: 0.1093 - val_loss: 0.1074\n",
            "Epoch 40/100\n",
            "60000/60000 [==============================] - 1s 16us/step - loss: 0.1086 - val_loss: 0.1067\n",
            "Epoch 41/100\n",
            "60000/60000 [==============================] - 1s 16us/step - loss: 0.1080 - val_loss: 0.1061\n",
            "Epoch 42/100\n",
            "60000/60000 [==============================] - 1s 16us/step - loss: 0.1074 - val_loss: 0.1056\n",
            "Epoch 43/100\n",
            "60000/60000 [==============================] - 1s 16us/step - loss: 0.1069 - val_loss: 0.1051\n",
            "Epoch 44/100\n",
            "60000/60000 [==============================] - 1s 16us/step - loss: 0.1064 - val_loss: 0.1046\n",
            "Epoch 45/100\n",
            "60000/60000 [==============================] - 1s 16us/step - loss: 0.1059 - val_loss: 0.1041\n",
            "Epoch 46/100\n",
            "60000/60000 [==============================] - 1s 17us/step - loss: 0.1055 - val_loss: 0.1037\n",
            "Epoch 47/100\n",
            "60000/60000 [==============================] - 1s 16us/step - loss: 0.1051 - val_loss: 0.1033\n",
            "Epoch 48/100\n",
            "60000/60000 [==============================] - 1s 16us/step - loss: 0.1047 - val_loss: 0.1029\n",
            "Epoch 49/100\n",
            "60000/60000 [==============================] - 1s 16us/step - loss: 0.1043 - val_loss: 0.1026\n",
            "Epoch 50/100\n",
            "60000/60000 [==============================] - 1s 17us/step - loss: 0.1040 - val_loss: 0.1022\n",
            "Epoch 51/100\n",
            "60000/60000 [==============================] - 1s 17us/step - loss: 0.1037 - val_loss: 0.1019\n",
            "Epoch 52/100\n",
            "60000/60000 [==============================] - 1s 16us/step - loss: 0.1034 - val_loss: 0.1016\n",
            "Epoch 53/100\n",
            "60000/60000 [==============================] - 1s 17us/step - loss: 0.1031 - val_loss: 0.1014\n",
            "Epoch 54/100\n",
            "60000/60000 [==============================] - 1s 16us/step - loss: 0.1028 - val_loss: 0.1011\n",
            "Epoch 55/100\n",
            "60000/60000 [==============================] - 1s 16us/step - loss: 0.1026 - val_loss: 0.1009\n",
            "Epoch 56/100\n",
            "60000/60000 [==============================] - 1s 17us/step - loss: 0.1023 - val_loss: 0.1006\n",
            "Epoch 57/100\n",
            "60000/60000 [==============================] - 1s 17us/step - loss: 0.1021 - val_loss: 0.1004\n",
            "Epoch 58/100\n",
            "60000/60000 [==============================] - 1s 16us/step - loss: 0.1019 - val_loss: 0.1002\n",
            "Epoch 59/100\n",
            "60000/60000 [==============================] - 1s 16us/step - loss: 0.1017 - val_loss: 0.1000\n",
            "Epoch 60/100\n",
            "60000/60000 [==============================] - 1s 16us/step - loss: 0.1015 - val_loss: 0.0998\n",
            "Epoch 61/100\n",
            "60000/60000 [==============================] - 1s 16us/step - loss: 0.1013 - val_loss: 0.0997\n",
            "Epoch 62/100\n",
            "60000/60000 [==============================] - 1s 16us/step - loss: 0.1012 - val_loss: 0.0995\n",
            "Epoch 63/100\n",
            "60000/60000 [==============================] - 1s 16us/step - loss: 0.1010 - val_loss: 0.0994\n",
            "Epoch 64/100\n",
            "60000/60000 [==============================] - 1s 16us/step - loss: 0.1009 - val_loss: 0.0992\n",
            "Epoch 65/100\n",
            "60000/60000 [==============================] - 1s 16us/step - loss: 0.1007 - val_loss: 0.0991\n",
            "Epoch 66/100\n",
            "60000/60000 [==============================] - 1s 16us/step - loss: 0.1006 - val_loss: 0.0989\n",
            "Epoch 67/100\n",
            "60000/60000 [==============================] - 1s 16us/step - loss: 0.1005 - val_loss: 0.0989\n",
            "Epoch 68/100\n",
            "60000/60000 [==============================] - 1s 16us/step - loss: 0.1004 - val_loss: 0.0987\n",
            "Epoch 69/100\n",
            "60000/60000 [==============================] - 1s 16us/step - loss: 0.1002 - val_loss: 0.0986\n",
            "Epoch 70/100\n",
            "60000/60000 [==============================] - 1s 16us/step - loss: 0.1001 - val_loss: 0.0985\n",
            "Epoch 71/100\n",
            "60000/60000 [==============================] - 1s 16us/step - loss: 0.1000 - val_loss: 0.0984\n",
            "Epoch 72/100\n",
            "60000/60000 [==============================] - 1s 16us/step - loss: 0.0999 - val_loss: 0.0983\n",
            "Epoch 73/100\n",
            "60000/60000 [==============================] - 1s 16us/step - loss: 0.0999 - val_loss: 0.0983\n",
            "Epoch 74/100\n",
            "60000/60000 [==============================] - 1s 16us/step - loss: 0.0998 - val_loss: 0.0982\n",
            "Epoch 75/100\n",
            "60000/60000 [==============================] - 1s 16us/step - loss: 0.0997 - val_loss: 0.0981\n",
            "Epoch 76/100\n",
            "60000/60000 [==============================] - 1s 16us/step - loss: 0.0996 - val_loss: 0.0980\n",
            "Epoch 77/100\n",
            "60000/60000 [==============================] - 1s 16us/step - loss: 0.0995 - val_loss: 0.0979\n",
            "Epoch 78/100\n",
            "60000/60000 [==============================] - 1s 16us/step - loss: 0.0995 - val_loss: 0.0978\n",
            "Epoch 79/100\n",
            "60000/60000 [==============================] - 1s 16us/step - loss: 0.0994 - val_loss: 0.0978\n",
            "Epoch 80/100\n",
            "60000/60000 [==============================] - 1s 16us/step - loss: 0.0993 - val_loss: 0.0977\n",
            "Epoch 81/100\n",
            "60000/60000 [==============================] - 1s 16us/step - loss: 0.0992 - val_loss: 0.0977\n",
            "Epoch 82/100\n",
            "60000/60000 [==============================] - 1s 16us/step - loss: 0.0992 - val_loss: 0.0976\n",
            "Epoch 83/100\n",
            "60000/60000 [==============================] - 1s 16us/step - loss: 0.0991 - val_loss: 0.0975\n",
            "Epoch 84/100\n",
            "60000/60000 [==============================] - 1s 16us/step - loss: 0.0991 - val_loss: 0.0975\n",
            "Epoch 85/100\n",
            "60000/60000 [==============================] - 1s 16us/step - loss: 0.0990 - val_loss: 0.0974\n",
            "Epoch 86/100\n",
            "60000/60000 [==============================] - 1s 16us/step - loss: 0.0990 - val_loss: 0.0974\n",
            "Epoch 87/100\n",
            "60000/60000 [==============================] - 1s 16us/step - loss: 0.0989 - val_loss: 0.0973\n",
            "Epoch 88/100\n",
            "60000/60000 [==============================] - 1s 16us/step - loss: 0.0988 - val_loss: 0.0973\n",
            "Epoch 89/100\n",
            "60000/60000 [==============================] - 1s 16us/step - loss: 0.0988 - val_loss: 0.0972\n",
            "Epoch 90/100\n",
            "60000/60000 [==============================] - 1s 16us/step - loss: 0.0987 - val_loss: 0.0972\n",
            "Epoch 91/100\n",
            "60000/60000 [==============================] - 1s 16us/step - loss: 0.0987 - val_loss: 0.0971\n",
            "Epoch 92/100\n",
            "60000/60000 [==============================] - 1s 16us/step - loss: 0.0987 - val_loss: 0.0971\n",
            "Epoch 93/100\n",
            "60000/60000 [==============================] - 1s 16us/step - loss: 0.0986 - val_loss: 0.0970\n",
            "Epoch 94/100\n",
            "60000/60000 [==============================] - 1s 16us/step - loss: 0.0986 - val_loss: 0.0970\n",
            "Epoch 95/100\n",
            "60000/60000 [==============================] - 1s 16us/step - loss: 0.0985 - val_loss: 0.0970\n",
            "Epoch 96/100\n",
            "60000/60000 [==============================] - 1s 16us/step - loss: 0.0985 - val_loss: 0.0969\n",
            "Epoch 97/100\n",
            "60000/60000 [==============================] - 1s 16us/step - loss: 0.0984 - val_loss: 0.0969\n",
            "Epoch 98/100\n",
            "60000/60000 [==============================] - 1s 16us/step - loss: 0.0984 - val_loss: 0.0968\n",
            "Epoch 99/100\n",
            "60000/60000 [==============================] - 1s 16us/step - loss: 0.0984 - val_loss: 0.0968\n",
            "Epoch 100/100\n",
            "60000/60000 [==============================] - 1s 16us/step - loss: 0.0983 - val_loss: 0.0968\n"
          ],
          "name": "stdout"
        },
        {
          "output_type": "execute_result",
          "data": {
            "text/plain": [
              "<keras.callbacks.History at 0x7f181d381290>"
            ]
          },
          "metadata": {
            "tags": []
          },
          "execution_count": 8
        }
      ]
    },
    {
      "cell_type": "markdown",
      "metadata": {
        "id": "IcfCVk8QMBZ4",
        "colab_type": "text"
      },
      "source": [
        "After 50 epochs, the autoencoder seems to reach a stable train/test loss value of about 0.11. We can try to visualize the reconstructed inputs and the encoded representations. We will use Matplotlib."
      ]
    },
    {
      "cell_type": "code",
      "metadata": {
        "id": "5V2Jka62MC0e",
        "colab_type": "code",
        "outputId": "e6305044-75fb-40fb-c07e-315fbc57edbf",
        "colab": {
          "base_uri": "https://localhost:8080/",
          "height": 283
        }
      },
      "source": [
        "# encode and decode some digits\n",
        "# note that we take them from the *test* set\n",
        "#encoded_imgs = encoder.predict(x_test)\n",
        "#decoded_imgs = decoder.predict(encoded_imgs)\n",
        "\n",
        "decoded_imgs = autoencoder.predict(x_test)\n",
        "\n",
        "# use Matplotlib (don't ask)\n",
        "import matplotlib.pyplot as plt\n",
        "\n",
        "n = 10  # how many digits we will display\n",
        "plt.figure(figsize=(20, 4))\n",
        "for i in range(n):\n",
        "    # display original\n",
        "    ax = plt.subplot(2, n, i + 1)\n",
        "    plt.imshow(x_test[i].reshape(28, 28))\n",
        "    plt.gray()\n",
        "\n",
        "\n",
        "    # display reconstruction\n",
        "    ax = plt.subplot(2, n, i + 1 + n)\n",
        "    plt.imshow(decoded_imgs[i].reshape(28, 28))\n",
        "    plt.gray()\n",
        "\n",
        "plt.show()"
      ],
      "execution_count": 0,
      "outputs": [
        {
          "output_type": "display_data",
          "data": {
            "image/png": "[encoded data removed]",
            "text/plain": [
              "<matplotlib.figure.Figure at 0x7f6d9d9087d0>"
            ]
          },
          "metadata": {
            "tags": []
          }
        }
      ]
    }
  ]
}